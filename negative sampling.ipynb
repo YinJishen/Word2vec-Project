{
 "cells": [
  {
   "cell_type": "code",
   "execution_count": 3,
   "metadata": {},
   "outputs": [],
   "source": [
    "import numpy as np\n",
    "from functools import reduce"
   ]
  },
  {
   "cell_type": "code",
   "execution_count": 4,
   "metadata": {},
   "outputs": [],
   "source": [
    "def sigmoid(x):\n",
    "    \"\"\"\n",
    "    sigmiod function\n",
    "    \"\"\"\n",
    "    return 1/(1+np.exp(-x))\n",
    "\n",
    "def unique_words(corpus):\n",
    "    \"\"\"\n",
    "    find unique words in the corpus\n",
    "    \n",
    "    Pamameters\n",
    "    ----------\n",
    "    corpus: list[list]\n",
    "        each element of the list contains a list representing one sentence, where each element represents a word in a sentence\n",
    "    \"\"\"\n",
    "    return list(set(reduce(lambda x, y: x + y, corpus)))\n",
    "\n",
    "def vec_init(words, length):\n",
    "    \"\"\"\n",
    "    randomly initialize the word vectors with given length\n",
    "    \"\"\"\n",
    "    res = dict()\n",
    "    for word in words:\n",
    "        res[word] = np.random.rand(length)\n",
    "    return res"
   ]
  },
  {
   "cell_type": "code",
   "execution_count": 5,
   "metadata": {},
   "outputs": [],
   "source": [
    "def negative_sampling(corpus, length=10, window_size=2, neg_size=5, learning_rate=0.01, epoches=10000):\n",
    "    \"\"\"\n",
    "    Negative sampling skip-gram model\n",
    "    \n",
    "    Parameters\n",
    "    ----------\n",
    "    corpus: list[list]\n",
    "        each element of the list contains a list representing one sentence, where each element represents a word in a sentence\n",
    "    length: positive int\n",
    "        length of the vectors in result\n",
    "    window_size: positive int\n",
    "        size of context window\n",
    "    neg_size: positive int\n",
    "        size of negative sampling\n",
    "    learning_rate: positive float\n",
    "        learning rate of the gradient descenting algorithm\n",
    "    \"\"\"\n",
    "    words = unique_words(corpus) + ['<START>', '<END>']\n",
    "    v = vec_init(words, length)\n",
    "    theta = vec_init(words, length)\n",
    "    for epoch in range(epoches):\n",
    "        for sentence in corpus:\n",
    "            for i, w in enumerate(sentence):\n",
    "                context = [] # find context\n",
    "                for j in range(i-window_size, i+window_size+1):\n",
    "                    if j == i:\n",
    "                        continue\n",
    "                    if j<0:\n",
    "                        context.append('<START>')\n",
    "                    elif j>=len(sentence):\n",
    "                        context.append('<END>')\n",
    "                    else:\n",
    "                        context.append(sentence[j])\n",
    "                for w_sim in context:\n",
    "                    e = np.zeros(length)\n",
    "                    neg = [w] # +neg_samples\n",
    "                    for j, u in enumerate(neg):\n",
    "                        L = 1 if j == 0 else 0\n",
    "                        q = sigmoid(v[w_sim]@theta[u])\n",
    "                        g = learning_rate*(L - q)\n",
    "                        e += g*theta[u]\n",
    "                        theta[u] += g*v[w_sim]\n",
    "                    v[w_sim] += e\n",
    "    return (v, theta)"
   ]
  },
  {
   "cell_type": "code",
   "execution_count": null,
   "metadata": {},
   "outputs": [],
   "source": []
  }
 ],
 "metadata": {
  "kernelspec": {
   "display_name": "Python 3",
   "language": "python",
   "name": "python3"
  },
  "language_info": {
   "codemirror_mode": {
    "name": "ipython",
    "version": 3
   },
   "file_extension": ".py",
   "mimetype": "text/x-python",
   "name": "python",
   "nbconvert_exporter": "python",
   "pygments_lexer": "ipython3",
   "version": "3.7.4"
  }
 },
 "nbformat": 4,
 "nbformat_minor": 2
}
