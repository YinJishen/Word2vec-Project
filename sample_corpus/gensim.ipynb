{
 "cells": [
  {
   "cell_type": "code",
   "execution_count": 1,
   "metadata": {},
   "outputs": [],
   "source": [
    "import pandas as pd\n",
    "import gensim\n",
    "from gensim.models import word2vec "
   ]
  },
  {
   "cell_type": "code",
   "execution_count": 2,
   "metadata": {},
   "outputs": [],
   "source": [
    "corona = pd.read_csv('news.csv')\n",
    "corona_text = corona['text'].tolist()"
   ]
  },
  {
   "cell_type": "code",
   "execution_count": 3,
   "metadata": {},
   "outputs": [],
   "source": [
    "def clean_novel(lines):\n",
    "    import re\n",
    "    import string\n",
    "    txt = ''.join(lines)\n",
    "    sentences = [x for x in map(str.strip, re.split(',|\\.|\\n|\\?|;|!', txt)) if x]\n",
    "    pre_words = [x.translate(str.maketrans('-', ' ')).translate(str.maketrans('', '', string.punctuation)).lower().split() for x in sentences]\n",
    "    \n",
    "    # only select sentences that have more than 3 words\n",
    "    words = list(filter(lambda x: len(x) > 3, pre_words))\n",
    "    return(words)"
   ]
  },
  {
   "cell_type": "code",
   "execution_count": 25,
   "metadata": {
    "scrolled": true
   },
   "outputs": [
    {
     "data": {
      "text/plain": [
       "203440"
      ]
     },
     "execution_count": 25,
     "metadata": {},
     "output_type": "execute_result"
    }
   ],
   "source": [
    "corona_news = clean_novel(corona_text)\n",
    "len(corona_news)"
   ]
  },
  {
   "cell_type": "code",
   "execution_count": 26,
   "metadata": {},
   "outputs": [],
   "source": [
    "# write text in txt format\n",
    "newss = [\" \".join(lst) for lst in corona_news]\n",
    "with open('f1.txt','w') as f:\n",
    "    f.write('\\n'.join(newss))"
   ]
  },
  {
   "cell_type": "code",
   "execution_count": 27,
   "metadata": {},
   "outputs": [],
   "source": [
    "# sentences=[[\"a\",\"b\"],[\"b\",\"c\"] ... ]\n",
    "# format of ‘list of lists’ where every document is contained in a list and every list contains lists of tokens of that document.\n",
    "sentences=word2vec.Text8Corpus('f1.txt')"
   ]
  },
  {
   "cell_type": "code",
   "execution_count": 36,
   "metadata": {
    "scrolled": false
   },
   "outputs": [],
   "source": [
    "model = gensim.models.Word2Vec(sentences, sg=1, size=100, window=5, min_count=2, negative=3, sample=0.001, hs=1, workers=4)"
   ]
  },
  {
   "cell_type": "code",
   "execution_count": 37,
   "metadata": {},
   "outputs": [],
   "source": [
    "model.wv.save_word2vec_format(\"my_model\")"
   ]
  },
  {
   "cell_type": "code",
   "execution_count": 39,
   "metadata": {},
   "outputs": [
    {
     "name": "stderr",
     "output_type": "stream",
     "text": [
      "//anaconda3/lib/python3.7/site-packages/ipykernel_launcher.py:1: DeprecationWarning: Call to deprecated `most_similar` (Method will be removed in 4.0.0, use self.wv.most_similar() instead).\n",
      "  \"\"\"Entry point for launching an IPython kernel.\n"
     ]
    },
    {
     "data": {
      "text/plain": [
       "[('illness', 0.7368355989456177),\n",
       " ('coronavirus', 0.7115739583969116),\n",
       " ('unknowingly', 0.6849954128265381),\n",
       " ('novel', 0.6664228439331055),\n",
       " ('disease', 0.6475797891616821),\n",
       " ('spread', 0.6430693864822388),\n",
       " ('infection', 0.6416800022125244),\n",
       " ('hospitalizing', 0.6295053362846375),\n",
       " ('viruss', 0.6270586252212524),\n",
       " ('coronavirusno', 0.6254991292953491)]"
      ]
     },
     "execution_count": 39,
     "metadata": {},
     "output_type": "execute_result"
    }
   ],
   "source": [
    "model.most_similar(\"virus\",topn=10)"
   ]
  },
  {
   "cell_type": "code",
   "execution_count": 40,
   "metadata": {},
   "outputs": [
    {
     "name": "stderr",
     "output_type": "stream",
     "text": [
      "//anaconda3/lib/python3.7/site-packages/ipykernel_launcher.py:1: DeprecationWarning: Call to deprecated `most_similar` (Method will be removed in 4.0.0, use self.wv.most_similar() instead).\n",
      "  \"\"\"Entry point for launching an IPython kernel.\n"
     ]
    },
    {
     "data": {
      "text/plain": [
       "[('iran', 0.7521771192550659),\n",
       " ('wuhan', 0.7475581765174866),\n",
       " ('italy', 0.7444133758544922),\n",
       " ('chinas', 0.7253733277320862),\n",
       " ('mainland', 0.7191027402877808),\n",
       " ('hubei', 0.7054965496063232),\n",
       " ('dailyreuters', 0.6993685364723206),\n",
       " ('originated', 0.6833742260932922),\n",
       " ('france', 0.6825128197669983),\n",
       " ('349', 0.6807755827903748)]"
      ]
     },
     "execution_count": 40,
     "metadata": {},
     "output_type": "execute_result"
    }
   ],
   "source": [
    "model.most_similar(\"china\",topn=10)"
   ]
  },
  {
   "cell_type": "code",
   "execution_count": 41,
   "metadata": {},
   "outputs": [
    {
     "name": "stderr",
     "output_type": "stream",
     "text": [
      "//anaconda3/lib/python3.7/site-packages/ipykernel_launcher.py:1: DeprecationWarning: Call to deprecated `most_similar` (Method will be removed in 4.0.0, use self.wv.most_similar() instead).\n",
      "  \"\"\"Entry point for launching an IPython kernel.\n"
     ]
    },
    {
     "data": {
      "text/plain": [
       "[('the', 0.6924196481704712),\n",
       " ('in', 0.6327998042106628),\n",
       " ('a', 0.5733381509780884),\n",
       " ('ruhi', 0.5658314824104309),\n",
       " ('and', 0.5657659769058228),\n",
       " ('fulford', 0.5622284412384033),\n",
       " ('jest', 0.5550270676612854),\n",
       " ('stopscovid', 0.5517673492431641),\n",
       " ('given', 0.5496647357940674),\n",
       " ('embedded', 0.5472092032432556)]"
      ]
     },
     "execution_count": 41,
     "metadata": {},
     "output_type": "execute_result"
    }
   ],
   "source": [
    "model.most_similar(\"of\",topn=10)"
   ]
  },
  {
   "cell_type": "code",
   "execution_count": 42,
   "metadata": {},
   "outputs": [
    {
     "name": "stderr",
     "output_type": "stream",
     "text": [
      "//anaconda3/lib/python3.7/site-packages/ipykernel_launcher.py:1: DeprecationWarning: Call to deprecated `most_similar` (Method will be removed in 4.0.0, use self.wv.most_similar() instead).\n",
      "  \"\"\"Entry point for launching an IPython kernel.\n"
     ]
    },
    {
     "data": {
      "text/plain": [
       "[('drugs', 0.7595710158348083),\n",
       " ('canadacanada', 0.677651047706604),\n",
       " ('lopinavir', 0.6745259761810303),\n",
       " ('ritonavir', 0.6677477955818176),\n",
       " ('heartburn', 0.6600841283798218),\n",
       " ('treatments', 0.6409274935722351),\n",
       " ('hydroxychloroquine', 0.6400681734085083),\n",
       " ('antiviral', 0.6378158330917358),\n",
       " ('mart', 0.6337190270423889),\n",
       " ('therapies', 0.6228923797607422)]"
      ]
     },
     "execution_count": 42,
     "metadata": {},
     "output_type": "execute_result"
    }
   ],
   "source": [
    "model.most_similar(\"drug\",topn=10)"
   ]
  },
  {
   "cell_type": "code",
   "execution_count": null,
   "metadata": {},
   "outputs": [],
   "source": []
  }
 ],
 "metadata": {
  "kernelspec": {
   "display_name": "Python 3",
   "language": "python",
   "name": "python3"
  },
  "language_info": {
   "codemirror_mode": {
    "name": "ipython",
    "version": 3
   },
   "file_extension": ".py",
   "mimetype": "text/x-python",
   "name": "python",
   "nbconvert_exporter": "python",
   "pygments_lexer": "ipython3",
   "version": "3.7.3"
  }
 },
 "nbformat": 4,
 "nbformat_minor": 2
}
